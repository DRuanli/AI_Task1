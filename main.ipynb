{
 "cells": [
  {
   "cell_type": "code",
   "id": "initial_id",
   "metadata": {
    "collapsed": true,
    "ExecuteTime": {
     "end_time": "2025-03-14T00:57:15.521811Z",
     "start_time": "2025-03-14T00:57:15.450920Z"
    }
   },
   "source": [
    "from Search.AStar import AStar\n",
    "from Search.MahattanDistanceHeuristic import ManhattanDistanceHeuristic\n",
    "from Search.MisplacedTilesLinearConflictHeuristic import MisplacedTilesLinearConflictHeuristic\n",
    "from Game.PuzzleGame import PuzzleGame"
   ],
   "outputs": [],
   "execution_count": 1
  },
  {
   "metadata": {
    "ExecuteTime": {
     "end_time": "2025-03-14T00:57:15.525490Z",
     "start_time": "2025-03-14T00:57:15.523349Z"
    }
   },
   "cell_type": "code",
   "source": "h1 = ManhattanDistanceHeuristic()",
   "id": "96c463a4760987ac",
   "outputs": [],
   "execution_count": 2
  },
  {
   "metadata": {
    "ExecuteTime": {
     "end_time": "2025-03-14T00:57:15.528950Z",
     "start_time": "2025-03-14T00:57:15.526410Z"
    }
   },
   "cell_type": "code",
   "source": [
    "game = PuzzleGame()\n",
    "\n",
    "#while not game.is_solvable(game.initial_state):\n",
    "#    game = PuzzleGame()\n"
   ],
   "id": "da0616a26de778fc",
   "outputs": [],
   "execution_count": 3
  },
  {
   "metadata": {
    "ExecuteTime": {
     "end_time": "2025-03-14T00:57:15.816837Z",
     "start_time": "2025-03-14T00:57:15.530282Z"
    }
   },
   "cell_type": "code",
   "source": [
    "print(game.initial_state)\n",
    "\n",
    "astar = AStar(h1)\n",
    "solution, stats = astar.search(game.initial_state, game.goal_states)"
   ],
   "id": "47025ba19f7d3466",
   "outputs": [
    {
     "name": "stdout",
     "output_type": "stream",
     "text": [
      "4 8 3 \n",
      "_ 6 7 \n",
      "1 2 5 \n",
      "\n"
     ]
    }
   ],
   "execution_count": 4
  },
  {
   "metadata": {
    "ExecuteTime": {
     "end_time": "2025-03-14T00:57:47.414609Z",
     "start_time": "2025-03-14T00:57:47.399791Z"
    }
   },
   "cell_type": "code",
   "source": [
    "def print_solution_path(solution_path):\n",
    "    \"\"\"Print the step-by-step solution path from initial state to goal state.\"\"\"\n",
    "    if not solution_path or len(solution_path) <= 1:\n",
    "        print(\"No solution path to display.\")\n",
    "        return\n",
    "\n",
    "    print(\"\\n===== SOLUTION PATH =====\")\n",
    "    print(f\"Total Moves: {len(solution_path)-1}\")\n",
    "\n",
    "    # Print initial state\n",
    "    print(\"\\nInitial State:\")\n",
    "    print(solution_path[0])\n",
    "\n",
    "    # Determine which goal state was reached\n",
    "    reached_goal = solution_path[-1]\n",
    "\n",
    "    # Print each step\n",
    "    for i in range(1, len(solution_path)):\n",
    "        current = solution_path[i]\n",
    "        previous = solution_path[i-1]\n",
    "\n",
    "        # Determine move direction\n",
    "        prev_blank = previous.get_blank_position()\n",
    "        curr_blank = current.get_blank_position()\n",
    "\n",
    "        diff_row = prev_blank[0] - curr_blank[0]\n",
    "        diff_col = prev_blank[1] - curr_blank[1]\n",
    "\n",
    "        if diff_row == 1 and diff_col == 0:\n",
    "            direction = \"UP\"\n",
    "        elif diff_row == -1 and diff_col == 0:\n",
    "            direction = \"DOWN\"\n",
    "        elif diff_row == 0 and diff_col == 1:\n",
    "            direction = \"LEFT\"\n",
    "        elif diff_row == 0 and diff_col == -1:\n",
    "            direction = \"RIGHT\"\n",
    "        else:\n",
    "            direction = \"UNKNOWN\"\n",
    "\n",
    "        # Get the tile that moved\n",
    "        if direction != \"UNKNOWN\":\n",
    "            moved_tile = current.board[prev_blank]\n",
    "        else:\n",
    "            moved_tile = \"?\"\n",
    "\n",
    "        print(f\"\\nMove {i}: Tile {moved_tile} moved {direction}\")\n",
    "        print(current)\n",
    "\n",
    "    print(\"\\nGoal State Reached!\")\n",
    "    return"
   ],
   "id": "eedd08d38276d2d3",
   "outputs": [],
   "execution_count": 6
  },
  {
   "metadata": {
    "ExecuteTime": {
     "end_time": "2025-03-14T00:58:05.433694Z",
     "start_time": "2025-03-14T00:58:05.412351Z"
    }
   },
   "cell_type": "code",
   "source": "print_solution_path(solution)",
   "id": "4dbc96e694ca3ca5",
   "outputs": [
    {
     "name": "stdout",
     "output_type": "stream",
     "text": [
      "\n",
      "===== SOLUTION PATH =====\n",
      "Total Moves: 19\n",
      "\n",
      "Initial State:\n",
      "4 8 3 \n",
      "_ 6 7 \n",
      "1 2 5 \n",
      "\n",
      "\n",
      "Move 1: Tile 1 moved DOWN\n",
      "4 8 3 \n",
      "1 6 7 \n",
      "_ 2 5 \n",
      "\n",
      "\n",
      "Move 2: Tile 2 moved RIGHT\n",
      "4 8 3 \n",
      "1 6 7 \n",
      "2 _ 5 \n",
      "\n",
      "\n",
      "Move 3: Tile 6 moved UP\n",
      "4 8 3 \n",
      "1 _ 7 \n",
      "2 6 5 \n",
      "\n",
      "\n",
      "Move 4: Tile 1 moved LEFT\n",
      "4 8 3 \n",
      "_ 1 7 \n",
      "2 6 5 \n",
      "\n",
      "\n",
      "Move 5: Tile 4 moved DOWN\n",
      "2 8 3 \n",
      "4 1 7 \n",
      "_ 6 5 \n",
      "\n",
      "\n",
      "Move 6: Tile 4 moved UP\n",
      "2 8 3 \n",
      "_ 1 7 \n",
      "4 6 5 \n",
      "\n",
      "\n",
      "Move 7: Tile 1 moved RIGHT\n",
      "2 8 3 \n",
      "1 _ 7 \n",
      "4 6 5 \n",
      "\n",
      "\n",
      "Move 8: Tile 7 moved RIGHT\n",
      "2 8 3 \n",
      "1 7 _ \n",
      "4 6 5 \n",
      "\n",
      "\n",
      "Move 9: Tile 5 moved DOWN\n",
      "2 8 3 \n",
      "1 7 5 \n",
      "4 6 _ \n",
      "\n",
      "\n",
      "Move 10: Tile 6 moved LEFT\n",
      "2 8 3 \n",
      "1 7 5 \n",
      "4 _ 6 \n",
      "\n",
      "\n",
      "Move 11: Tile 7 moved UP\n",
      "2 8 3 \n",
      "1 _ 5 \n",
      "4 7 6 \n",
      "\n",
      "\n",
      "Move 12: Tile 8 moved UP\n",
      "2 _ 3 \n",
      "1 8 5 \n",
      "4 7 6 \n",
      "\n",
      "\n",
      "Move 13: Tile 2 moved LEFT\n",
      "_ 2 3 \n",
      "1 8 5 \n",
      "4 7 6 \n",
      "\n",
      "\n",
      "Move 14: Tile 1 moved DOWN\n",
      "1 2 3 \n",
      "_ 8 5 \n",
      "4 7 6 \n",
      "\n",
      "\n",
      "Move 15: Tile 4 moved DOWN\n",
      "1 2 3 \n",
      "4 8 5 \n",
      "_ 7 6 \n",
      "\n",
      "\n",
      "Move 16: Tile 7 moved RIGHT\n",
      "1 2 3 \n",
      "4 8 5 \n",
      "7 _ 6 \n",
      "\n",
      "\n",
      "Move 17: Tile 8 moved UP\n",
      "1 2 3 \n",
      "4 _ 5 \n",
      "7 8 6 \n",
      "\n",
      "\n",
      "Move 18: Tile 5 moved RIGHT\n",
      "1 2 3 \n",
      "4 5 _ \n",
      "7 8 6 \n",
      "\n",
      "\n",
      "Move 19: Tile 6 moved DOWN\n",
      "1 2 3 \n",
      "4 5 6 \n",
      "7 8 _ \n",
      "\n",
      "\n",
      "Goal State Reached!\n"
     ]
    }
   ],
   "execution_count": 7
  }
 ],
 "metadata": {
  "kernelspec": {
   "display_name": "Python 3",
   "language": "python",
   "name": "python3"
  },
  "language_info": {
   "codemirror_mode": {
    "name": "ipython",
    "version": 2
   },
   "file_extension": ".py",
   "mimetype": "text/x-python",
   "name": "python",
   "nbconvert_exporter": "python",
   "pygments_lexer": "ipython2",
   "version": "2.7.6"
  }
 },
 "nbformat": 4,
 "nbformat_minor": 5
}
