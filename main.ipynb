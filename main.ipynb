{
 "cells": [
  {
   "cell_type": "code",
   "id": "initial_id",
   "metadata": {
    "collapsed": true,
    "ExecuteTime": {
     "end_time": "2025-03-14T10:09:15.798935Z",
     "start_time": "2025-03-14T10:09:15.242134Z"
    }
   },
   "source": [
    "from Search.AStar import AStar\n",
    "from Search.ManhattanDistanceHeuristic import ManhattanDistanceHeuristic\n",
    "from Game.PuzzleGame import PuzzleGame\n",
    "from utils.SearchTreeVisualizer import (SearchTreeVisualizer,\n",
    "                                        print_solution_path)"
   ],
   "outputs": [],
   "execution_count": 1
  },
  {
   "metadata": {
    "ExecuteTime": {
     "end_time": "2025-03-14T10:09:15.803230Z",
     "start_time": "2025-03-14T10:09:15.800352Z"
    }
   },
   "cell_type": "code",
   "source": "h1 = ManhattanDistanceHeuristic()",
   "id": "96c463a4760987ac",
   "outputs": [],
   "execution_count": 2
  },
  {
   "metadata": {
    "ExecuteTime": {
     "end_time": "2025-03-14T10:09:15.806555Z",
     "start_time": "2025-03-14T10:09:15.804275Z"
    }
   },
   "cell_type": "code",
   "source": [
    "game = PuzzleGame()\n",
    "\n",
    "#while not game.is_solvable(game.initial_state):\n",
    "#    game = PuzzleGame()\n"
   ],
   "id": "da0616a26de778fc",
   "outputs": [],
   "execution_count": 3
  },
  {
   "metadata": {
    "ExecuteTime": {
     "end_time": "2025-03-14T10:09:20.038572Z",
     "start_time": "2025-03-14T10:09:15.808246Z"
    }
   },
   "cell_type": "code",
   "source": [
    "print(game.initial_state)\n",
    "\n",
    "astar = AStar(h1)\n",
    "solution, stats = astar.search(game.initial_state, game.goal_states)"
   ],
   "id": "47025ba19f7d3466",
   "outputs": [
    {
     "name": "stdout",
     "output_type": "stream",
     "text": [
      "8 _ 7 \n",
      "2 6 1 \n",
      "5 4 3 \n",
      "\n"
     ]
    }
   ],
   "execution_count": 4
  },
  {
   "metadata": {
    "ExecuteTime": {
     "end_time": "2025-03-14T10:09:20.046773Z",
     "start_time": "2025-03-14T10:09:20.040766Z"
    }
   },
   "cell_type": "code",
   "source": "print_solution_path(solution)",
   "id": "6bf55aa1ac642dce",
   "outputs": [
    {
     "name": "stdout",
     "output_type": "stream",
     "text": [
      "\n",
      "===== SOLUTION PATH =====\n",
      "Total Moves: 19\n",
      "\n",
      "Initial State:\n",
      "8 _ 7 \n",
      "2 6 1 \n",
      "5 4 3 \n",
      "\n",
      "\n",
      "Move 1: Tile 7 moved RIGHT\n",
      "8 7 _ \n",
      "2 6 1 \n",
      "5 4 3 \n",
      "\n",
      "\n",
      "Move 2: Tile 1 moved DOWN\n",
      "8 7 1 \n",
      "2 6 _ \n",
      "5 4 3 \n",
      "\n",
      "\n",
      "Move 3: Tile 6 moved LEFT\n",
      "8 7 1 \n",
      "2 _ 6 \n",
      "5 4 3 \n",
      "\n",
      "\n",
      "Move 4: Tile 4 moved LEFT\n",
      "8 7 1 \n",
      "_ 4 6 \n",
      "5 2 3 \n",
      "\n",
      "\n",
      "Move 5: Tile 8 moved UP\n",
      "_ 7 1 \n",
      "8 4 6 \n",
      "5 2 3 \n",
      "\n",
      "\n",
      "Move 6: Tile 7 moved RIGHT\n",
      "7 _ 1 \n",
      "8 4 6 \n",
      "5 2 3 \n",
      "\n",
      "\n",
      "Move 7: Tile 1 moved RIGHT\n",
      "7 1 _ \n",
      "8 4 6 \n",
      "5 2 3 \n",
      "\n",
      "\n",
      "Move 8: Tile 6 moved DOWN\n",
      "7 1 6 \n",
      "8 4 _ \n",
      "5 2 3 \n",
      "\n",
      "\n",
      "Move 9: Tile 4 moved LEFT\n",
      "7 1 6 \n",
      "8 _ 4 \n",
      "5 2 3 \n",
      "\n",
      "\n",
      "Move 10: Tile 1 moved UP\n",
      "7 _ 6 \n",
      "8 1 4 \n",
      "5 2 3 \n",
      "\n",
      "\n",
      "Move 11: Tile 7 moved LEFT\n",
      "_ 7 6 \n",
      "8 1 4 \n",
      "5 2 3 \n",
      "\n",
      "\n",
      "Move 12: Tile 8 moved DOWN\n",
      "8 7 6 \n",
      "_ 1 4 \n",
      "5 2 3 \n",
      "\n",
      "\n",
      "Move 13: Tile 5 moved DOWN\n",
      "8 7 6 \n",
      "5 1 4 \n",
      "_ 2 3 \n",
      "\n",
      "\n",
      "Move 14: Tile 2 moved RIGHT\n",
      "8 7 6 \n",
      "5 1 4 \n",
      "2 _ 3 \n",
      "\n",
      "\n",
      "Move 15: Tile 1 moved RIGHT\n",
      "8 7 6 \n",
      "5 3 4 \n",
      "2 1 _ \n",
      "\n",
      "\n",
      "Move 16: Tile 1 moved LEFT\n",
      "8 7 6 \n",
      "5 3 4 \n",
      "2 _ 1 \n",
      "\n",
      "\n",
      "Move 17: Tile 1 moved UP\n",
      "8 7 6 \n",
      "5 _ 4 \n",
      "2 1 3 \n",
      "\n",
      "\n",
      "Move 18: Tile 4 moved RIGHT\n",
      "8 7 6 \n",
      "5 4 _ \n",
      "2 1 3 \n",
      "\n",
      "\n",
      "Move 19: Tile 3 moved DOWN\n",
      "8 7 6 \n",
      "5 4 3 \n",
      "2 1 _ \n",
      "\n",
      "\n",
      "Goal State Reached!\n"
     ]
    }
   ],
   "execution_count": 5
  }
 ],
 "metadata": {
  "kernelspec": {
   "display_name": "Python 3",
   "language": "python",
   "name": "python3"
  },
  "language_info": {
   "codemirror_mode": {
    "name": "ipython",
    "version": 2
   },
   "file_extension": ".py",
   "mimetype": "text/x-python",
   "name": "python",
   "nbconvert_exporter": "python",
   "pygments_lexer": "ipython2",
   "version": "2.7.6"
  }
 },
 "nbformat": 4,
 "nbformat_minor": 5
}
