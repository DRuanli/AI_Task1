{
 "cells": [
  {
   "cell_type": "code",
   "id": "initial_id",
   "metadata": {
    "collapsed": true,
    "ExecuteTime": {
     "end_time": "2025-03-14T09:59:52.092772Z",
     "start_time": "2025-03-14T09:59:52.086371Z"
    }
   },
   "source": [
    "from Search.AStar import AStar\n",
    "from Search.ManhattanDistanceHeuristic import ManhattanDistanceHeuristic\n",
    "from Search.MisplacedTilesLinearConflictHeuristic import MisplacedTilesLinearConflictHeuristic\n",
    "from Game.PuzzleGame import PuzzleGame"
   ],
   "outputs": [],
   "execution_count": 7
  },
  {
   "metadata": {
    "ExecuteTime": {
     "end_time": "2025-03-14T09:59:52.099238Z",
     "start_time": "2025-03-14T09:59:52.095503Z"
    }
   },
   "cell_type": "code",
   "source": "h1 = ManhattanDistanceHeuristic()",
   "id": "96c463a4760987ac",
   "outputs": [],
   "execution_count": 8
  },
  {
   "metadata": {
    "ExecuteTime": {
     "end_time": "2025-03-14T09:59:52.105113Z",
     "start_time": "2025-03-14T09:59:52.100988Z"
    }
   },
   "cell_type": "code",
   "source": [
    "game = PuzzleGame()\n",
    "\n",
    "#while not game.is_solvable(game.initial_state):\n",
    "#    game = PuzzleGame()\n"
   ],
   "id": "da0616a26de778fc",
   "outputs": [],
   "execution_count": 9
  },
  {
   "metadata": {
    "ExecuteTime": {
     "end_time": "2025-03-14T09:59:52.147265Z",
     "start_time": "2025-03-14T09:59:52.106817Z"
    }
   },
   "cell_type": "code",
   "source": [
    "print(game.initial_state)\n",
    "\n",
    "astar = AStar(h1)\n",
    "solution, stats = astar.search(game.initial_state, game.goal_states)"
   ],
   "id": "47025ba19f7d3466",
   "outputs": [
    {
     "name": "stdout",
     "output_type": "stream",
     "text": [
      "3 _ 5 \n",
      "4 2 1 \n",
      "6 7 8 \n",
      "\n"
     ]
    }
   ],
   "execution_count": 10
  },
  {
   "metadata": {
    "ExecuteTime": {
     "end_time": "2025-03-14T09:59:52.158747Z",
     "start_time": "2025-03-14T09:59:52.151196Z"
    }
   },
   "cell_type": "code",
   "source": [
    "def print_solution_path(solution_path):\n",
    "    \"\"\"Print the step-by-step solution path from initial state to goal state.\"\"\"\n",
    "    if not solution_path or len(solution_path) <= 1:\n",
    "        print(\"No solution path to display.\")\n",
    "        return\n",
    "\n",
    "    print(\"\\n===== SOLUTION PATH =====\")\n",
    "    print(f\"Total Moves: {len(solution_path)-1}\")\n",
    "\n",
    "    # Print initial state\n",
    "    print(\"\\nInitial State:\")\n",
    "    print(solution_path[0])\n",
    "\n",
    "    # Determine which goal state was reached\n",
    "    reached_goal = solution_path[-1]\n",
    "\n",
    "    # Print each step\n",
    "    for i in range(1, len(solution_path)):\n",
    "        current = solution_path[i]\n",
    "        previous = solution_path[i-1]\n",
    "\n",
    "        # Determine move direction\n",
    "        prev_blank = previous.get_blank_position()\n",
    "        curr_blank = current.get_blank_position()\n",
    "\n",
    "        diff_row = prev_blank[0] - curr_blank[0]\n",
    "        diff_col = prev_blank[1] - curr_blank[1]\n",
    "\n",
    "        if diff_row == 1 and diff_col == 0:\n",
    "            direction = \"UP\"\n",
    "        elif diff_row == -1 and diff_col == 0:\n",
    "            direction = \"DOWN\"\n",
    "        elif diff_row == 0 and diff_col == 1:\n",
    "            direction = \"LEFT\"\n",
    "        elif diff_row == 0 and diff_col == -1:\n",
    "            direction = \"RIGHT\"\n",
    "        else:\n",
    "            direction = \"UNKNOWN\"\n",
    "\n",
    "        # Get the tile that moved\n",
    "        if direction != \"UNKNOWN\":\n",
    "            moved_tile = current.board[prev_blank]\n",
    "        else:\n",
    "            moved_tile = \"?\"\n",
    "\n",
    "        print(f\"\\nMove {i}: Tile {moved_tile} moved {direction}\")\n",
    "        print(current)\n",
    "\n",
    "    print(\"\\nGoal State Reached!\")\n",
    "    return"
   ],
   "id": "eedd08d38276d2d3",
   "outputs": [],
   "execution_count": 11
  },
  {
   "metadata": {
    "ExecuteTime": {
     "end_time": "2025-03-14T09:59:52.164355Z",
     "start_time": "2025-03-14T09:59:52.160981Z"
    }
   },
   "cell_type": "code",
   "source": "print_solution_path(solution)",
   "id": "4dbc96e694ca3ca5",
   "outputs": [
    {
     "name": "stdout",
     "output_type": "stream",
     "text": [
      "\n",
      "===== SOLUTION PATH =====\n",
      "Total Moves: 9\n",
      "\n",
      "Initial State:\n",
      "3 _ 5 \n",
      "4 2 1 \n",
      "6 7 8 \n",
      "\n",
      "\n",
      "Move 1: Tile 2 moved DOWN\n",
      "3 2 5 \n",
      "4 _ 1 \n",
      "6 7 8 \n",
      "\n",
      "\n",
      "Move 2: Tile 1 moved RIGHT\n",
      "3 2 5 \n",
      "4 1 _ \n",
      "6 7 8 \n",
      "\n",
      "\n",
      "Move 3: Tile 5 moved UP\n",
      "3 2 _ \n",
      "4 1 5 \n",
      "6 7 8 \n",
      "\n",
      "\n",
      "Move 4: Tile 2 moved LEFT\n",
      "3 _ 2 \n",
      "4 1 5 \n",
      "6 7 8 \n",
      "\n",
      "\n",
      "Move 5: Tile 1 moved LEFT\n",
      "_ 1 2 \n",
      "4 3 5 \n",
      "6 7 8 \n",
      "\n",
      "\n",
      "Move 6: Tile 1 moved RIGHT\n",
      "1 _ 2 \n",
      "4 3 5 \n",
      "6 7 8 \n",
      "\n",
      "\n",
      "Move 7: Tile 1 moved DOWN\n",
      "3 1 2 \n",
      "4 _ 5 \n",
      "6 7 8 \n",
      "\n",
      "\n",
      "Move 8: Tile 4 moved LEFT\n",
      "3 1 2 \n",
      "_ 4 5 \n",
      "6 7 8 \n",
      "\n",
      "\n",
      "Move 9: Tile 3 moved UP\n",
      "_ 1 2 \n",
      "3 4 5 \n",
      "6 7 8 \n",
      "\n",
      "\n",
      "Goal State Reached!\n"
     ]
    }
   ],
   "execution_count": 12
  }
 ],
 "metadata": {
  "kernelspec": {
   "display_name": "Python 3",
   "language": "python",
   "name": "python3"
  },
  "language_info": {
   "codemirror_mode": {
    "name": "ipython",
    "version": 2
   },
   "file_extension": ".py",
   "mimetype": "text/x-python",
   "name": "python",
   "nbconvert_exporter": "python",
   "pygments_lexer": "ipython2",
   "version": "2.7.6"
  }
 },
 "nbformat": 4,
 "nbformat_minor": 5
}
